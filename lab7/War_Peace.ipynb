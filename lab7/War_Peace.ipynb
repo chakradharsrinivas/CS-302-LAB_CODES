{
 "cells": [
  {
   "cell_type": "code",
   "execution_count": null,
   "metadata": {},
   "outputs": [],
   "source": [
    "import numpy as np\n",
    "import re"
   ]
  },
  {
   "cell_type": "code",
   "execution_count": null,
   "metadata": {},
   "outputs": [],
   "source": [
    "f = open(r\"C:\\Users\\SIVASAI\\Desktop\\lab6\\book-war-and-peace.txt\")\n",
    "t = f.readlines()\n",
    "t = ''.join(t)"
   ]
  },
  {
   "cell_type": "code",
   "execution_count": null,
   "metadata": {},
   "outputs": [],
   "source": [
    "text = re.sub('[^a-zA-Z]', ' ', t)[:50000]\n",
    "text = text.lower()"
   ]
  },
  {
   "cell_type": "code",
   "execution_count": null,
   "metadata": {},
   "outputs": [],
   "source": [
    "d = {}\n",
    "for i in range(0, 26):\n",
    "    d[chr(i+97)] = i\n",
    "d[' '] = 26"
   ]
  },
  {
   "cell_type": "code",
   "execution_count": null,
   "metadata": {},
   "outputs": [],
   "source": [
    "V = np.zeros(50000)\n",
    "for i in range(len(text)):\n",
    "    V[i] = d[text[i]]"
   ]
  },
  {
   "cell_type": "code",
   "execution_count": null,
   "metadata": {},
   "outputs": [],
   "source": [
    "V = V.astype(int)\n",
    "print(V)"
   ]
  },
  {
   "cell_type": "code",
   "execution_count": null,
   "metadata": {},
   "outputs": [],
   "source": [
    "# Transition Probabilities\n",
    "a = np.array([[0.47468,0.52532],[0.51656,0.48344]])\n",
    "print(a)"
   ]
  },
  {
   "cell_type": "code",
   "execution_count": null,
   "metadata": {},
   "outputs": [],
   "source": [
    "b = np.array([[0.03735,0.03909 ],\n",
    "[0.03408 ,0.03537 ],\n",
    "[0.03455 ,0.03537 ],\n",
    "[0.03828, 0.03909 ],\n",
    "[0.03782, 0.03583 ],\n",
    "[0.03922 ,0.03630 ],\n",
    "[0.03688, 0.04048 ],\n",
    "[0.03408, 0.03537 ],\n",
    "[0.03875 ,0.03816 ],\n",
    "[0.04062 ,0.03909 ],\n",
    "[0.03735 ,0.03490 ],\n",
    "[0.03968, 0.03723 ],\n",
    "[0.03548 ,0.03537 ],\n",
    "[0.03735 ,0.03909 ],\n",
    "[0.04062, 0.03397 ],\n",
    "[0.03595, 0.03397 ],\n",
    "[0.03641, 0.03816 ],\n",
    "[0.03408, 0.03676 ],\n",
    "[0.04062 ,0.04048 ],\n",
    "[0.03548, 0.03443 ],\n",
    "[0.03922, 0.03537 ],\n",
    "[0.04062 ,0.03955], \n",
    "[0.03455, 0.03816 ],\n",
    "[0.03595, 0.03723 ],\n",
    "[0.03408,0.03769 ],\n",
    "[0.03408 ,0.03955 ],\n",
    "[0.03688, 0.03397 ]])\n",
    "b = b.T\n",
    "print(b.shape)"
   ]
  },
  {
   "cell_type": "code",
   "execution_count": null,
   "metadata": {},
   "outputs": [],
   "source": [
    "# Equal Probabilities for the initial distribution\n",
    "initial_distribution = np.array([0.51316,0.48684])\n",
    "print(initial_distribution)"
   ]
  },
  {
   "cell_type": "code",
   "execution_count": null,
   "metadata": {},
   "outputs": [],
   "source": [
    "from ipynb.fs.full.BaumWelch import baum_welch"
   ]
  },
  {
   "cell_type": "code",
   "execution_count": null,
   "metadata": {},
   "outputs": [],
   "source": [
    "print(V.shape)\n",
    "print(a.shape)\n",
    "print(b.shape)\n",
    "print(V.shape[0], a.shape[0])"
   ]
  },
  {
   "cell_type": "code",
   "execution_count": null,
   "metadata": {},
   "outputs": [],
   "source": [
    "print(baum_welch(V, a, b, initial_distribution, n_iter=2))"
   ]
  },
  {
   "cell_type": "code",
   "execution_count": null,
   "metadata": {},
   "outputs": [],
   "source": []
  }
 ],
 "metadata": {
  "kernelspec": {
   "display_name": "Python 3 (ipykernel)",
   "language": "python",
   "name": "python3"
  },
  "language_info": {
   "codemirror_mode": {
    "name": "ipython",
    "version": 3
   },
   "file_extension": ".py",
   "mimetype": "text/x-python",
   "name": "python",
   "nbconvert_exporter": "python",
   "pygments_lexer": "ipython3",
   "version": "3.9.7"
  }
 },
 "nbformat": 4,
 "nbformat_minor": 4
}
